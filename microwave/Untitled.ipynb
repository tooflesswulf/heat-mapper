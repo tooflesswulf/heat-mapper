{
 "cells": [
  {
   "cell_type": "code",
   "execution_count": 32,
   "metadata": {
    "collapsed": true
   },
   "outputs": [],
   "source": [
    "def closest_indices(arr, targ):\n",
    "    assert(len(arr.shape) == 1)\n",
    "    assert(len(targ.shape) == 1)\n",
    "\n",
    "    arrlen, = arr.shape\n",
    "\n",
    "    targ_expand = np.tile(targ, (arrlen, 1))\n",
    "    distsarr = np.abs(targ_expand - arr[:,np.newaxis])\n",
    "    return np.argmin(distsarr, axis=1)\n",
    "\n",
    "\n",
    "def link_dicts(d1, d2):\n",
    "    k1 = np.array(sorted(d1.keys()))\n",
    "    k2 = np.array(sorted(d2.keys()))\n",
    "\n",
    "    close1 = closest_indices(k1 ,k2)\n",
    "    close2 = closest_indices(k2 ,k1)\n",
    "\n",
    "    links = []\n",
    "    for i, val in enumerate(close1):\n",
    "        if close2[val] == i:\n",
    "            links.append((d1[k1[i]], d2[k2[val]]))\n",
    "    return links"
   ]
  },
  {
   "cell_type": "code",
   "execution_count": 2,
   "metadata": {
    "collapsed": true
   },
   "outputs": [],
   "source": [
    "import numpy as np"
   ]
  },
  {
   "cell_type": "code",
   "execution_count": 4,
   "metadata": {},
   "outputs": [],
   "source": [
    "a = np.arange(5)\n",
    "b = np.arange(10,15)\n",
    "c = np.linspace(.1,4.9,9)\n",
    "d = np.linspace(100,130,9)"
   ]
  },
  {
   "cell_type": "code",
   "execution_count": 8,
   "metadata": {},
   "outputs": [],
   "source": [
    "a2 = dict(zip(a,b))\n",
    "b2 = dict(zip(c,d))"
   ]
  },
  {
   "cell_type": "code",
   "execution_count": 33,
   "metadata": {},
   "outputs": [
    {
     "data": {
      "text/plain": [
       "[(10, 100.0), (11, 103.75), (12, 111.25), (13, 118.75), (14, 122.5)]"
      ]
     },
     "execution_count": 33,
     "metadata": {},
     "output_type": "execute_result"
    }
   ],
   "source": [
    "link_dicts(a2, b2)"
   ]
  },
  {
   "cell_type": "code",
   "execution_count": 28,
   "metadata": {},
   "outputs": [
    {
     "data": {
      "text/plain": [
       "{0: 10, 1: 11, 2: 12, 3: 13, 4: 14}"
      ]
     },
     "execution_count": 28,
     "metadata": {},
     "output_type": "execute_result"
    }
   ],
   "source": [
    "a2"
   ]
  },
  {
   "cell_type": "code",
   "execution_count": 29,
   "metadata": {},
   "outputs": [
    {
     "data": {
      "text/plain": [
       "{0.10000000000000001: 100.0,\n",
       " 0.70000000000000007: 103.75,\n",
       " 1.3000000000000003: 107.5,\n",
       " 1.9000000000000004: 111.25,\n",
       " 2.5000000000000004: 115.0,\n",
       " 3.1000000000000005: 118.75,\n",
       " 3.7000000000000006: 122.5,\n",
       " 4.3000000000000007: 126.25,\n",
       " 4.9000000000000004: 130.0}"
      ]
     },
     "execution_count": 29,
     "metadata": {},
     "output_type": "execute_result"
    }
   ],
   "source": [
    "b2"
   ]
  },
  {
   "cell_type": "code",
   "execution_count": 38,
   "metadata": {},
   "outputs": [
    {
     "ename": "IndexError",
     "evalue": "index 5 is out of bounds for axis 0 with size 5",
     "output_type": "error",
     "traceback": [
      "\u001b[0;31m---------------------------------------------------------------------------\u001b[0m",
      "\u001b[0;31mIndexError\u001b[0m                                Traceback (most recent call last)",
      "\u001b[0;32m<ipython-input-38-b6a934feab86>\u001b[0m in \u001b[0;36m<module>\u001b[0;34m()\u001b[0m\n\u001b[0;32m----> 1\u001b[0;31m \u001b[0ma\u001b[0m\u001b[0;34m[\u001b[0m\u001b[0;36m5\u001b[0m\u001b[0;34m]\u001b[0m\u001b[0;34m\u001b[0m\u001b[0m\n\u001b[0m",
      "\u001b[0;31mIndexError\u001b[0m: index 5 is out of bounds for axis 0 with size 5"
     ]
    }
   ],
   "source": [
    "a[5]"
   ]
  },
  {
   "cell_type": "code",
   "execution_count": null,
   "metadata": {
    "collapsed": true
   },
   "outputs": [],
   "source": []
  }
 ],
 "metadata": {
  "kernelspec": {
   "display_name": "Python 3",
   "language": "python",
   "name": "python3"
  },
  "language_info": {
   "codemirror_mode": {
    "name": "ipython",
    "version": 3
   },
   "file_extension": ".py",
   "mimetype": "text/x-python",
   "name": "python",
   "nbconvert_exporter": "python",
   "pygments_lexer": "ipython3",
   "version": "3.6.1"
  }
 },
 "nbformat": 4,
 "nbformat_minor": 2
}
